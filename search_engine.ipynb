{
 "cells": [
  {
   "cell_type": "markdown",
   "metadata": {},
   "source": [
    "# Search Engine\n",
    "\n",
    "1. Connectors\n",
    "2. Indexation\n",
    "3. HashMap\n",
    "4. Save (Marshall Ruby)\n",
    "5. Query\n",
    "    * search(word)\n",
    "    * search word0 AND word1 AND word2\n",
    "    * search word0 OR word1 OR word2\n",
    "\n",
    "### Deps\n",
    "\n",
    "> Python3 (Python 3.6.8)  "
   ]
  },
  {
   "cell_type": "markdown",
   "metadata": {},
   "source": [
    "### Connecteurs\n",
    "\n",
    "File system: prendre tous les fichier lisisbles d'un répertoire"
   ]
  },
  {
   "cell_type": "code",
   "execution_count": 4,
   "metadata": {},
   "outputs": [],
   "source": [
    "from os import listdir\n",
    "from os.path import isfile, join\n",
    "\n",
    "class Doc:\n",
    "    def __init__(self, url, text):\n",
    "        self.text = text\n",
    "        self.url = url\n",
    "    pass\n",
    "\n",
    "def fetch(path, recursive=True):\n",
    "    DocList = []\n",
    "    \n",
    "    files = [f for f in listdir(path) if isfile(join(path, f))]\n",
    "    print(files)\n",
    "    \n",
    "    for f in files:\n",
    "        f = open(file_n, \"r\")\n",
    "        c = f.read()\n",
    "        DocList.append(Doc(file_n, c))\n",
    "        f.close\n",
    "    \n",
    "    return DocList\n",
    "\n",
    "\n",
    "fetch()"
   ]
  },
  {
   "cell_type": "code",
   "execution_count": null,
   "metadata": {},
   "outputs": [],
   "source": []
  },
  {
   "cell_type": "code",
   "execution_count": 1,
   "metadata": {},
   "outputs": [],
   "source": [
    "def search(word):\n",
    "    pass"
   ]
  },
  {
   "cell_type": "code",
   "execution_count": 2,
   "metadata": {},
   "outputs": [],
   "source": [
    "def search_full(query):\n",
    "    pass"
   ]
  },
  {
   "cell_type": "code",
   "execution_count": null,
   "metadata": {},
   "outputs": [],
   "source": []
  }
 ],
 "metadata": {
  "kernelspec": {
   "display_name": "Python 3",
   "language": "python",
   "name": "python3"
  },
  "language_info": {
   "codemirror_mode": {
    "name": "ipython",
    "version": 3
   },
   "file_extension": ".py",
   "mimetype": "text/x-python",
   "name": "python",
   "nbconvert_exporter": "python",
   "pygments_lexer": "ipython3",
   "version": "3.6.8"
  }
 },
 "nbformat": 4,
 "nbformat_minor": 2
}
